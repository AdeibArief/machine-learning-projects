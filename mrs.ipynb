{
 "cells": [
  {
   "cell_type": "code",
   "execution_count": 1,
   "metadata": {},
   "outputs": [],
   "source": [
    "import pandas as pd\n",
    "import numpy as numpy"
   ]
  },
  {
   "cell_type": "code",
   "execution_count": 2,
   "metadata": {},
   "outputs": [],
   "source": [
    "from sklearn.feature_extraction.text import TfidfVectorizer\n",
    "from sklearn.metrics.pairwise import cosine_similarity"
   ]
  },
  {
   "cell_type": "code",
   "execution_count": 38,
   "metadata": {},
   "outputs": [],
   "source": [
    "df=pd.read_csv(\"updated_dataset.csv\")"
   ]
  },
  {
   "cell_type": "code",
   "execution_count": 39,
   "metadata": {},
   "outputs": [],
   "source": [
    "df=df.drop(columns=['Unnamed: 0'],axis=0)"
   ]
  },
  {
   "cell_type": "code",
   "execution_count": 40,
   "metadata": {},
   "outputs": [],
   "source": [
    "df=df.sample(10000).reset_index(drop=True)"
   ]
  },
  {
   "cell_type": "code",
   "execution_count": 41,
   "metadata": {},
   "outputs": [
    {
     "data": {
      "text/plain": [
       "array(['Avril Lavigne', 'Chris Rea', 'Joni Mitchell', 'Idina Menzel',\n",
       "       'Emmylou Harris', 'Bette Midler', 'Ariel Rivera', 'Uncle Tupelo',\n",
       "       'Alison Krauss', 'Travis', 'Beautiful South', 'Fleetwood Mac',\n",
       "       'Billie Holiday', 'Tim McGraw', 'Owl City', 'Lenny Kravitz',\n",
       "       'Kelly Clarkson', 'Korn', 'Kiss', 'Dan Fogelberg', 'Children',\n",
       "       'Billy Joel', 'Coldplay', 'Peter Cetera', 'Matt Redman',\n",
       "       'Mazzy Star', 'Britney Spears', 'The White Stripes', 'Yes',\n",
       "       'X Japan', 'Diana Ross', 'Eurythmics', 'Uncle Kracker',\n",
       "       'Michael W. Smith', 'Queensryche', 'Irving Berlin',\n",
       "       'Enrique Iglesias', 'Elvis Costello', 'Ne-Yo', 'Christmas Songs',\n",
       "       'Housemartins', 'Justin Bieber', 'Everlast', 'Ray Charles',\n",
       "       'Deep Purple', 'Who', 'Rihanna', 'Incognito', 'Jimi Hendrix',\n",
       "       'Lady Gaga', 'Barbra Streisand', 'Paul McCartney', 'Rammstein',\n",
       "       'Ozzy Osbourne', 'Eddie Cochran', 'Crowded House', 'Journey',\n",
       "       'Moody Blues', 'Madonna', 'Freddie Aguilar', 'Usher',\n",
       "       'Lynyrd Skynyrd', 'Carly Simon', 'Reo Speedwagon', 'John Legend',\n",
       "       'Roy Orbison', 'Yoko Ono', 'Wishbone Ash', 'Tom Jones',\n",
       "       'Eric Clapton', 'Otis Redding', 'Dave Matthews Band',\n",
       "       'Gordon Lightfoot', 'Ed Sheeran', 'Alabama', 'Oasis', 'R. Kelly',\n",
       "       'ZZ Top', 'Isley Brothers', 'Loretta Lynn', 'Glen Campbell',\n",
       "       'George Harrison', 'Offspring', 'Miley Cyrus', 'Phish',\n",
       "       'Planetshakers', 'Counting Crows', 'Olivia Newton-John',\n",
       "       'Elton John', 'NOFX', 'Chaka Khan', 'Beach Boys', 'Neil Diamond',\n",
       "       'Lionel Richie', 'Nat King Cole', 'Dusty Springfield', 'Clash',\n",
       "       'Bee Gees', 'Insane Clown Posse', 'Lata Mangeshkar', 'Air Supply',\n",
       "       'George Jones', 'Men At Work', 'Ufo', 'David Guetta', 'Europe',\n",
       "       'Incubus', 'The Killers', 'Faith No More', 'Aerosmith',\n",
       "       'John Prine', 'Cliff Richard', 'Gucci Mane', 'Blur', 'Chicago',\n",
       "       'Modern Talking', 'Outkast', 'Religious Music', 'Linda Ronstadt',\n",
       "       'Jennifer Lopez', 'Phil Collins', 'System Of A Down', 'Mary Black',\n",
       "       'David Bowie', 'Xscape', 'Christina Aguilera', 'Maroon 5',\n",
       "       'Harry Connick, Jr.', 'Zebrahead', 'Radiohead', 'Metallica',\n",
       "       'Andy Williams', 'Nina Simone', 'Depeche Mode', 'Tom T. Hall',\n",
       "       'Tracy Chapman', 'King Crimson', 'Bing Crosby', 'Alice Cooper',\n",
       "       'James Taylor', 'Glee', 'John McDermott', 'Kenny Loggins',\n",
       "       'Yellowcard', 'Keith Urban', 'Evanescence', 'Xzibit', 'Morrissey',\n",
       "       'Kate Bush', 'Indiana Bible College', 'Overkill',\n",
       "       'Engelbert Humperdinck', 'Mariah Carey', 'Falco', 'Prince',\n",
       "       'Kylie Minogue', 'Sting', 'Omd', 'Wet Wet Wet', 'Doobie Brothers',\n",
       "       'King Diamond', 'Hank Williams Jr.', 'Stevie Ray Vaughan',\n",
       "       'Neil Young', 'Oscar Hammerstein', 'Michael Buble', 'Nick Drake',\n",
       "       'New Order', 'Status Quo', 'John Mellencamp', 'Doris Day', 'Free',\n",
       "       'Slayer', 'Fastball', 'Stevie Wonder', 'P!nk', 'Nick Cave',\n",
       "       'W.A.S.P.', 'Iron Butterfly', 'Foo Fighters', 'Def Leppard',\n",
       "       'Tragically Hip', 'Lil Wayne', 'Natalie Cole', 'Face To Face',\n",
       "       'Lana Del Rey', 'Dean Martin', 'Carpenters', 'Used', 'Queen',\n",
       "       'Vince Gill', 'Kinks', 'Our Lady Peace', 'Ween', 'Zao', 'America',\n",
       "       'Ziggy Marley', 'Cat Stevens', 'Linkin Park', 'Nazareth',\n",
       "       'Backstreet Boys', 'Santana', 'Horrible Histories', 'Faith Hill',\n",
       "       'Justin Timberlake', 'Kenny Rogers', 'Misfits', 'Dream Theater',\n",
       "       'Fabolous', 'Reba Mcentire', 'Manowar', 'Kirk Franklin',\n",
       "       'Joy Division', 'Jim Croce', 'Pearl Jam', 'Westlife',\n",
       "       'Culture Club', 'Green Day', 'Jimmy Buffett', 'Waterboys',\n",
       "       'Primus', 'Dolly Parton', 'Bruce Springsteen', 'One Direction',\n",
       "       'Ocean Colour Scene', 'Marilyn Manson', 'Kanye West', 'Flo-Rida',\n",
       "       'Phineas And Ferb', 'Quietdrive', 'Paul Simon', 'Rolling Stones',\n",
       "       'Hollies', 'Jose Mari Chan', 'Warren Zevon', 'Willie Nelson',\n",
       "       'Uriah Heep', 'Venom', 'Red Hot Chili Peppers', 'Savage Garden',\n",
       "       'Lloyd Cole', 'Ingrid Michaelson', 'Pretenders', 'The Beatles',\n",
       "       'Nitty Gritty Dirt Band', 'Pogues', 'Wyclef Jean',\n",
       "       'Steve Miller Band', 'Erasure', 'Widespread Panic', 'Grease',\n",
       "       'Death', 'Ella Fitzgerald', 'Vonda Shepard', 'Puff Daddy',\n",
       "       'Townes Van Zandt', 'Chris Brown', 'Cyndi Lauper', 'Hillsong',\n",
       "       'Meat Loaf', 'Bob Dylan', 'Pharrell Williams', 'Hank Williams',\n",
       "       'Bob Seger', 'Louis Armstrong', 'Iron Maiden', 'Kelly Family',\n",
       "       'Gary Numan', 'Xavier Rudd', 'Louis Jordan', 'Wanda Jackson',\n",
       "       'Leann Rimes', 'Boney M.', 'Pitbull', 'Kris Kristofferson',\n",
       "       'Underworld', 'Alice In Chains', 'Judds', 'Frankie Valli', 'Cher',\n",
       "       'Robbie Williams', 'Creedence Clearwater Revival', 'Soundgarden',\n",
       "       'Sia', 'Roxette', 'LL Cool J', 'Conway Twitty', 'You Am I',\n",
       "       'Ramones', 'Arlo Guthrie', 'Train', 'Van Halen', 'Whiskeytown',\n",
       "       'Harry Belafonte', 'Steely Dan', 'The Temptations', 'Adam Sandler',\n",
       "       'George Michael', 'Zoegirl', 'Randy Travis', 'Etta James',\n",
       "       'Norah Jones', 'Grateful Dead', 'Black Sabbath', 'HIM',\n",
       "       'Marillion', 'Faces', 'Alan Parsons Project', 'George Strait',\n",
       "       'Virgin Steele', 'Halloween', 'Tina Turner', 'Waylon Jennings',\n",
       "       'Allman Brothers Band', 'Judy Garland', 'Wang Chung', 'U2',\n",
       "       'Hank Snow', 'Olly Murs', 'The Monkees', 'Heart',\n",
       "       'Nine Inch Nails', 'UB40', 'John Denver', 'Leo Sayer', 'Styx',\n",
       "       'Richard Marx', 'OneRepublic', 'Matt Monro', 'Kid Rock', 'ABBA',\n",
       "       'Bon Jovi', 'Starship', 'Tim Buckley', 'Great Big Sea', 'J Cole',\n",
       "       'Bob Marley', 'Lou Reed', 'Nirvana', 'Don McLean', 'Extreme',\n",
       "       'Rainbow', 'Noa', 'Velvet Underground', 'Van Morrison',\n",
       "       'Cheap Trick', 'Ying Yang Twins', 'The Script', 'Pet Shop Boys',\n",
       "       'Indigo Girls', 'Patti Smith', 'INXS', 'Violent Femmes',\n",
       "       'Amy Grant', 'Everclear', 'Guided By Voices', 'Human League',\n",
       "       'Opeth', 'Yo La Tengo', 'Alphaville', 'Peter Tosh', 'Drake',\n",
       "       'Eagles', 'Grand Funk Railroad', 'Ofra Haza', 'Johnny Cash',\n",
       "       'John Waite', 'Snoop Dogg', 'Demi Lovato', 'Weird Al Yankovic',\n",
       "       'Rascal Flatts', 'U. D. O.', 'Zeromancer', 'Christy Moore',\n",
       "       'Jackson Browne', 'Howard Jones', 'Genesis', 'Jason Mraz',\n",
       "       'Josh Groban', 'Megadeth', 'Helloween', 'Migos', \"Guns N' Roses\",\n",
       "       'Hillsong United', 'Iggy Pop', 'Xiu Xiu', 'Yeah Yeah Yeahs', 'Rem',\n",
       "       'Celine Dion', 'Nickelback', 'Raffi', 'Ice Cube', 'Unwritten Law',\n",
       "       'Zayn Malik', 'Garth Brooks', 'Thin Lizzy', 'Bread',\n",
       "       'Utada Hikaru', 'Divine', 'Lea Salonga', 'Whitesnake',\n",
       "       'Frank Zappa', 'Zucchero', 'Kirsty Maccoll', 'Hanson', 'Squeeze',\n",
       "       'Gloria Estefan', 'Eminem', 'Kim Wilde', 'Patsy Cline',\n",
       "       'Israel Houghton', 'Poison', 'Perry Como', 'Ariana Grande',\n",
       "       'Wu-Tang Clan', 'Oingo Boingo', 'Underoath', 'Carol Banawa',\n",
       "       'Wham!', 'Janis Joplin', 'Stone Roses', 'Quasi', 'Devo',\n",
       "       'Procol Harum', 'Leonard Cohen', 'Notorious B.I.G.', 'Proclaimers',\n",
       "       'Scorpions', 'Toto', 'Ian Hunter', 'Nicki Minaj', 'Hooverphonic',\n",
       "       'Spandau Ballet', 'Oliver', \"Old 97's\", 'Rush', 'Utopia', 'XTC',\n",
       "       'Quicksand', 'Bosson', 'Yo Gotti', 'Yusuf Islam', 'Michael Bolton',\n",
       "       'Kenny Chesney', 'Tori Amos', 'The Weeknd', 'Peter Gabriel',\n",
       "       'Ray Boltz', 'Vertical Horizon', 'Bob Rivers', 'Elvis Presley',\n",
       "       'Verve', 'Don Henley', 'Little Mix', 'Regine Velasquez',\n",
       "       'Ultravox', 'Passenger', 'Out Of Eden', 'Selah', 'Yelawolf',\n",
       "       'Koes Plus', 'Donna Summer', 'Enya', 'Supertramp',\n",
       "       'Marianne Faithfull', 'Doors', 'Natalie Imbruglia', 'Katy Perry',\n",
       "       'Kyla', 'Talking Heads', 'Imagine Dragons', 'Dire Straits',\n",
       "       'Frank Sinatra', 'Yolanda Adams', 'Tears For Fears',\n",
       "       'Arrogant Worms', 'Lauryn Hill', 'Rod Stewart', 'Natalie Grant',\n",
       "       'Queen Latifah', 'Zero 7', 'Zox', 'Aled Jones', 'Bryan White',\n",
       "       'Pink Floyd', 'Bonnie Raitt', 'Qntal', 'Fifth Harmony',\n",
       "       'Michael Jackson', 'Foreigner', 'Cinderella', 'Tiffany',\n",
       "       'Queens Of The Stone Age', 'Gary Valenciano', 'Fall Out Boy',\n",
       "       'High School Musical', 'Frankie Goes To Hollywood', 'Rick Astley',\n",
       "       'Gino Vannelli', 'Nightwish', 'Will Smith', 'Fatboy Slim',\n",
       "       'Pat Benatar', \"'n Sync\", 'Point Of Grace', 'Iwan Fals',\n",
       "       'Vengaboys', 'Don Moen', 'Veruca Salt', 'Yello',\n",
       "       'Within Temptation', 'Luther Vandross', 'Kari Jobe', 'X',\n",
       "       'David Pomeranz', 'O.A.R.', 'John Martyn', 'YG',\n",
       "       'Twenty One Pilots', 'Frankie Laine',\n",
       "       'Joseph And The Amazing Technicolor Dreamcoat', 'David Allan Coe',\n",
       "       'Z-Ro', 'Stone Temple Pilots', 'Van Der Graaf Generator',\n",
       "       'Vanessa Williams', 'Selena Gomez', 'Unearth', 'Yngwie Malmsteen',\n",
       "       'Wiz Khalifa', 'Sublime', 'Weezer', 'Ace Of Base', 'Israel',\n",
       "       'Wilson Pickett', 'Vangelis', 'Roxy Music', 'Zakk Wylde',\n",
       "       'Taylor Swift', 'Judas Priest', 'Tom Waits',\n",
       "       'Electric Light Orchestra', 'Unseen', 'Queen Adreena', 'Il Divo',\n",
       "       'Sam Smith', 'Zac Brown Band', 'Orphaned Land',\n",
       "       'Beauty And The Beast', 'Neil Sedaka', 'Quarterflash', 'Zazie',\n",
       "       'The Jam', 'Chuck Berry', 'Bruno Mars', 'Next To Normal',\n",
       "       'Keith Green', 'Lucky Dube', 'Bill Withers', 'Fiona Apple',\n",
       "       'Young Jeezy', 'Vanilla Ice', 'Quarashi', 'Whitney Houston',\n",
       "       'Rage Against The Machine', 'Annie', 'Erik Santos',\n",
       "       'Gloria Gaynor', 'Yukmouth', 'Ellie Goulding', 'Yazoo',\n",
       "       'The Broadways', 'Tom Lehrer', 'Inna', 'Youngbloodz', 'X-Ray Spex',\n",
       "       'Lorde', 'Zebra', 'Ten Years After', 'Freddie King',\n",
       "       'George Formby', 'Happy Mondays', \"Ultramagnetic Mc's\", 'Cake',\n",
       "       'Mud', 'Imperials', 'Tool', 'Young Buck', 'Quiet Riot', 'Smiths',\n",
       "       'Zwan', 'Ugly Kid Joe', 'Les Miserables', 'Xandria',\n",
       "       'Quincy Jones', 'Freestyle', 'Youth Of Today', 'Adele',\n",
       "       'Mark Ronson', 'Zornik', 'Christina Perri', 'Unkle', 'Q-Tip',\n",
       "       'Vybz Kartel', 'Walk The Moon', 'Enigma', 'Fun.', 'Cole Porter',\n",
       "       'Eppu Normaali', 'Yung Joc', 'Barbie',\n",
       "       'Yonder Mountain String Band', 'Dewa 19', 'Exo', 'Andrea Bocelli',\n",
       "       'Little Walter', 'X-Treme', 'Aiza Seguerra', 'Vera Lynn', 'Imago',\n",
       "       'Yeng Constantino', 'Inside Out', 'GMB',\n",
       "       'Quicksilver Messenger Service', 'Young Dro', 'Mc Hammer',\n",
       "       'Quincy Punx', 'Side A', 'Zed', 'X-Raided', 'Various Artists',\n",
       "       'Wilson Phillips', 'Independence Day'], dtype=object)"
      ]
     },
     "execution_count": 41,
     "metadata": {},
     "output_type": "execute_result"
    }
   ],
   "source": [
    "df['artist'].unique()"
   ]
  },
  {
   "cell_type": "code",
   "execution_count": 42,
   "metadata": {},
   "outputs": [
    {
     "data": {
      "text/html": [
       "<div>\n",
       "<style scoped>\n",
       "    .dataframe tbody tr th:only-of-type {\n",
       "        vertical-align: middle;\n",
       "    }\n",
       "\n",
       "    .dataframe tbody tr th {\n",
       "        vertical-align: top;\n",
       "    }\n",
       "\n",
       "    .dataframe thead th {\n",
       "        text-align: right;\n",
       "    }\n",
       "</style>\n",
       "<table border=\"1\" class=\"dataframe\">\n",
       "  <thead>\n",
       "    <tr style=\"text-align: right;\">\n",
       "      <th></th>\n",
       "      <th>artist</th>\n",
       "      <th>song</th>\n",
       "      <th>text</th>\n",
       "    </tr>\n",
       "  </thead>\n",
       "  <tbody>\n",
       "    <tr>\n",
       "      <th>321</th>\n",
       "      <td>One Direction</td>\n",
       "      <td>All You Need Is Love</td>\n",
       "      <td>( love , love , love ) ( love , love , love ) ...</td>\n",
       "    </tr>\n",
       "    <tr>\n",
       "      <th>587</th>\n",
       "      <td>One Direction</td>\n",
       "      <td>Little White Lies</td>\n",
       "      <td>if thi room wa burn i would n't even notic 'ca...</td>\n",
       "    </tr>\n",
       "    <tr>\n",
       "      <th>2198</th>\n",
       "      <td>One Direction</td>\n",
       "      <td>Where Do Broken Hearts Go</td>\n",
       "      <td>[ vers 1 : niall horan ] count all my mistak a...</td>\n",
       "    </tr>\n",
       "    <tr>\n",
       "      <th>3393</th>\n",
       "      <td>One Direction</td>\n",
       "      <td>Loved You First</td>\n",
       "      <td>girl , it should be me drive to your hous knoc...</td>\n",
       "    </tr>\n",
       "    <tr>\n",
       "      <th>3778</th>\n",
       "      <td>One Direction</td>\n",
       "      <td>Through The Dark</td>\n",
       "      <td>you tell me that you 're sad and lost your way...</td>\n",
       "    </tr>\n",
       "    <tr>\n",
       "      <th>5437</th>\n",
       "      <td>One Direction</td>\n",
       "      <td>Infinity</td>\n",
       "      <td>[ vers 1 : niall horan ] down to earth keep on...</td>\n",
       "    </tr>\n",
       "    <tr>\n",
       "      <th>8419</th>\n",
       "      <td>One Direction</td>\n",
       "      <td>No Control</td>\n",
       "      <td>[ vers 1 : niall horan ] stain coffe cup just ...</td>\n",
       "    </tr>\n",
       "    <tr>\n",
       "      <th>8429</th>\n",
       "      <td>One Direction</td>\n",
       "      <td>Last First Kiss</td>\n",
       "      <td>babi i , i wan na know what you think when you...</td>\n",
       "    </tr>\n",
       "  </tbody>\n",
       "</table>\n",
       "</div>"
      ],
      "text/plain": [
       "             artist                       song  \\\n",
       "321   One Direction       All You Need Is Love   \n",
       "587   One Direction          Little White Lies   \n",
       "2198  One Direction  Where Do Broken Hearts Go   \n",
       "3393  One Direction            Loved You First   \n",
       "3778  One Direction           Through The Dark   \n",
       "5437  One Direction                   Infinity   \n",
       "8419  One Direction                 No Control   \n",
       "8429  One Direction            Last First Kiss   \n",
       "\n",
       "                                                   text  \n",
       "321   ( love , love , love ) ( love , love , love ) ...  \n",
       "587   if thi room wa burn i would n't even notic 'ca...  \n",
       "2198  [ vers 1 : niall horan ] count all my mistak a...  \n",
       "3393  girl , it should be me drive to your hous knoc...  \n",
       "3778  you tell me that you 're sad and lost your way...  \n",
       "5437  [ vers 1 : niall horan ] down to earth keep on...  \n",
       "8419  [ vers 1 : niall horan ] stain coffe cup just ...  \n",
       "8429  babi i , i wan na know what you think when you...  "
      ]
     },
     "execution_count": 42,
     "metadata": {},
     "output_type": "execute_result"
    }
   ],
   "source": [
    "df[df['artist']=='One Direction']"
   ]
  },
  {
   "cell_type": "code",
   "execution_count": 44,
   "metadata": {},
   "outputs": [],
   "source": [
    "tfidf=TfidfVectorizer(analyzer='word',stop_words='english')\n",
    "matrix=tfidf.fit_transform(df['text'])"
   ]
  },
  {
   "cell_type": "code",
   "execution_count": 46,
   "metadata": {},
   "outputs": [
    {
     "name": "stdout",
     "output_type": "stream",
     "text": [
      "  (0, 24362)\t0.04718861515435808\n",
      "  (0, 5380)\t0.13654391270375352\n",
      "  (0, 3946)\t0.06014641662365098\n",
      "  (0, 21790)\t0.03344295899950669\n",
      "  (0, 2941)\t0.04095824604079344\n",
      "  (0, 9602)\t0.02372687387000627\n",
      "  (0, 17687)\t0.06747866789361305\n",
      "  (0, 8849)\t0.027725071661180378\n",
      "  (0, 14618)\t0.02532162892531002\n",
      "  (0, 17485)\t0.04697377508640731\n",
      "  (0, 12546)\t0.027907796513911683\n",
      "  (0, 8840)\t0.03148478699305601\n",
      "  (0, 9238)\t0.030736369581234515\n",
      "  (0, 21737)\t0.01892671314765127\n",
      "  (0, 7355)\t0.2454988125824802\n",
      "  (0, 9366)\t0.22823562180188378\n",
      "  (0, 9934)\t0.11869484561958119\n",
      "  (0, 23605)\t0.16038559536815783\n",
      "  (0, 3059)\t0.22108909899673548\n",
      "  (0, 6088)\t0.1449039527333748\n",
      "  (0, 22033)\t0.7418357086817118\n",
      "  (0, 3974)\t0.08594406154548462\n",
      "  (0, 2153)\t0.0981481410247474\n",
      "  (0, 798)\t0.09674059035714683\n",
      "  (0, 12310)\t0.0644555807843392\n",
      "  :\t:\n",
      "  (9999, 14002)\t0.06317588144315263\n",
      "  (9999, 1581)\t0.06093669508241135\n",
      "  (9999, 23232)\t0.07006703422087986\n",
      "  (9999, 7428)\t0.07062540675476382\n",
      "  (9999, 21926)\t0.16289410680338048\n",
      "  (9999, 12661)\t0.06998131109613646\n",
      "  (9999, 12987)\t0.03650683511137636\n",
      "  (9999, 7289)\t0.1008924909923602\n",
      "  (9999, 24187)\t0.3328467684956591\n",
      "  (9999, 8895)\t0.10255114233648809\n",
      "  (9999, 6197)\t0.11495706064968633\n",
      "  (9999, 11729)\t0.056210166452506115\n",
      "  (9999, 21752)\t0.12547092032991716\n",
      "  (9999, 12402)\t0.059830241782091564\n",
      "  (9999, 12360)\t0.09403727303574892\n",
      "  (9999, 4372)\t0.06882323605372274\n",
      "  (9999, 8849)\t0.09283083428267674\n",
      "  (9999, 8840)\t0.05270967519030975\n",
      "  (9999, 21737)\t0.06337161516467553\n",
      "  (9999, 3974)\t0.09592110987014348\n",
      "  (9999, 798)\t0.10797098286586568\n",
      "  (9999, 3229)\t0.0383214654810342\n",
      "  (9999, 7502)\t0.03754787858296094\n",
      "  (9999, 17989)\t0.08460974604260595\n",
      "  (9999, 11336)\t0.058173476942880144\n"
     ]
    }
   ],
   "source": [
    "print(matrix)"
   ]
  },
  {
   "cell_type": "code",
   "execution_count": 47,
   "metadata": {},
   "outputs": [],
   "source": [
    "similarity=cosine_similarity(matrix)"
   ]
  },
  {
   "cell_type": "code",
   "execution_count": 53,
   "metadata": {},
   "outputs": [
    {
     "data": {
      "text/plain": [
       "array([0.02485146, 1.        , 0.05969682, ..., 0.02211074, 0.00868645,\n",
       "       0.        ])"
      ]
     },
     "execution_count": 53,
     "metadata": {},
     "output_type": "execute_result"
    }
   ],
   "source": [
    "similarity[1]"
   ]
  },
  {
   "cell_type": "code",
   "execution_count": 59,
   "metadata": {},
   "outputs": [],
   "source": [
    "def recommendation0(song_df):\n",
    "    idx=df[df['song']==song_df].index[0]\n",
    "    distances=sorted(list(enumerate(similarity[idx])),reverse=True,key=lambda x:x[1])\n",
    "    songs=[]\n",
    "\n",
    "    for m_id in distances[1:21]:\n",
    "        songs.append(df.iloc[m_id[0]].song)\n",
    "    return songs\n",
    "   \n",
    "def recommendation(song_df):\n",
    "    idx = df[df['song'] == song_df].index[0]\n",
    "    distances = sorted(list(enumerate(similarity[idx])),reverse=True,key=lambda x:x[1])\n",
    "    \n",
    "    songs = []\n",
    "    for m_id in distances[1:21]:\n",
    "        songs.append(df.iloc[m_id[0]].song)\n",
    "        \n",
    "    return songs"
   ]
  },
  {
   "cell_type": "code",
   "execution_count": 60,
   "metadata": {},
   "outputs": [
    {
     "data": {
      "text/plain": [
       "['Of A Broken Heart',\n",
       " 'From The Bottom Of My Broken Heart',\n",
       " 'Broken',\n",
       " 'Somewhere In My Broken Heart',\n",
       " 'Since I Lost You',\n",
       " 'How Do Ya Fix A Broken Part',\n",
       " 'Broken',\n",
       " 'As You Are',\n",
       " 'Paradise',\n",
       " 'How Can You Mend A Broken Heart',\n",
       " \"Cryin' My Heart Out For You\",\n",
       " 'Story',\n",
       " 'Loser With A Broken Heart',\n",
       " 'My Heart Would Know',\n",
       " 'Love You By Heart',\n",
       " 'Look Out Heart',\n",
       " 'Oh My Heart',\n",
       " \"Don't Break My Heart\",\n",
       " 'Heart Of An Angel',\n",
       " 'Heart Of Mine']"
      ]
     },
     "execution_count": 60,
     "metadata": {},
     "output_type": "execute_result"
    }
   ],
   "source": [
    "recommendation('Where Do Broken Hearts Go')"
   ]
  },
  {
   "cell_type": "code",
   "execution_count": 63,
   "metadata": {},
   "outputs": [],
   "source": [
    "# recommendation(\"Don't Break My Heart\")"
   ]
  },
  {
   "cell_type": "code",
   "execution_count": 64,
   "metadata": {},
   "outputs": [],
   "source": [
    "import pickle "
   ]
  },
  {
   "cell_type": "code",
   "execution_count": 65,
   "metadata": {},
   "outputs": [],
   "source": [
    "pickle.dump(df,open('df.pkl','wb'))"
   ]
  },
  {
   "cell_type": "code",
   "execution_count": 66,
   "metadata": {},
   "outputs": [],
   "source": [
    "pickle.dump(similarity,open('similarity.pkl','wb'))"
   ]
  },
  {
   "cell_type": "code",
   "execution_count": null,
   "metadata": {},
   "outputs": [],
   "source": []
  }
 ],
 "metadata": {
  "kernelspec": {
   "display_name": "Python 3",
   "language": "python",
   "name": "python3"
  },
  "language_info": {
   "codemirror_mode": {
    "name": "ipython",
    "version": 3
   },
   "file_extension": ".py",
   "mimetype": "text/x-python",
   "name": "python",
   "nbconvert_exporter": "python",
   "pygments_lexer": "ipython3",
   "version": "3.11.5"
  }
 },
 "nbformat": 4,
 "nbformat_minor": 2
}
